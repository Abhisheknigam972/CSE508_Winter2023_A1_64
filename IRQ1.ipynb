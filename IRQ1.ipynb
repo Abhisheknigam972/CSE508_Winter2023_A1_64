{
  "nbformat": 4,
  "nbformat_minor": 0,
  "metadata": {
    "colab": {
      "provenance": []
    },
    "kernelspec": {
      "name": "python3",
      "display_name": "Python 3"
    },
    "language_info": {
      "name": "python"
    }
  },
  "cells": [
    {
      "cell_type": "markdown",
      "source": [
        "**1.Data Preprocessing**\n",
        "\n"
      ],
      "metadata": {
        "id": "6uVEOiLsPoZy"
      }
    },
    {
      "cell_type": "markdown",
      "source": [
        "**(i) Relevant Text Extraction**"
      ],
      "metadata": {
        "id": "78KzjX9DwbDF"
      }
    },
    {
      "cell_type": "code",
      "source": [
        "#Mounting the google drive\n",
        "from google.colab import drive\n",
        "drive.mount('/content/drive')"
      ],
      "metadata": {
        "colab": {
          "base_uri": "https://localhost:8080/"
        },
        "id": "r6Hx6k8dOXZz",
        "outputId": "381b5b0f-a802-46f2-eb3c-518f19f969a1"
      },
      "execution_count": null,
      "outputs": [
        {
          "output_type": "stream",
          "name": "stdout",
          "text": [
            "Mounted at /content/drive\n"
          ]
        }
      ]
    },
    {
      "cell_type": "code",
      "source": [
        "#import the os package to change the directory.\n",
        "import os\n",
        "os.chdir(\"/content/drive/MyDrive/IR_Dataset/Assignment_1/IR_dataset_after_Q1/CSE508_Winter2023_Dataset\")"
      ],
      "metadata": {
        "id": "ZeoLS09cL2VN"
      },
      "execution_count": null,
      "outputs": []
    },
    {
      "cell_type": "code",
      "source": [
        "#import the glob library to read all the files.\n",
        "import glob\n",
        "html_files = glob.glob('*')\n",
        "print(html_files)"
      ],
      "metadata": {
        "colab": {
          "base_uri": "https://localhost:8080/"
        },
        "id": "1LTqjHOTiXTc",
        "outputId": "bd6d6d02-bcb6-40e2-d6f5-ac827820ed5f"
      },
      "execution_count": null,
      "outputs": [
        {
          "output_type": "stream",
          "name": "stdout",
          "text": [
            "['cranfield0744', 'cranfield0184', 'cranfield0514', 'cranfield1002', 'cranfield0910', 'cranfield1252', 'cranfield1034', 'cranfield0710', 'cranfield1035', 'cranfield0772', 'cranfield0742', 'cranfield0788', 'cranfield0781', 'cranfield1032', 'cranfield1206', 'cranfield1237', 'cranfield1004', 'cranfield0719', 'cranfield0942', 'cranfield0973', 'cranfield0920', 'cranfield0123', 'cranfield1003', 'cranfield0775', 'cranfield0916', 'cranfield0329', 'cranfield1238', 'cranfield0177', 'cranfield0583', 'cranfield0547', 'cranfield0546', 'cranfield1005', 'cranfield0522', 'cranfield0945', 'cranfield0345', 'cranfield1231', 'cranfield1201', 'cranfield1069', 'cranfield1230', 'cranfield0374', 'cranfield0717', 'cranfield0380', 'cranfield0112', 'cranfield1239', 'cranfield0774', 'cranfield0579', 'cranfield0540', 'cranfield0525', 'cranfield0584', 'cranfield0321', 'cranfield0721', 'cranfield0911', 'cranfield1236', 'cranfield0989', 'cranfield0148', 'cranfield0773', 'cranfield0786', 'cranfield0549', 'cranfield0548', 'cranfield0927', 'cranfield0585', 'cranfield1058', 'cranfield1299', 'cranfield0576', 'cranfield0179', 'cranfield1290', 'cranfield1200', 'cranfield0919', 'cranfield0541', 'cranfield0125', 'cranfield1297', 'cranfield1056', 'cranfield0780', 'cranfield0141', 'cranfield1093', 'cranfield0170', 'cranfield1051', 'cranfield1264', 'cranfield0577', 'cranfield0582', 'cranfield0124', 'cranfield0921', 'cranfield1067', 'cranfield1209', 'cranfield0578', 'cranfield1060', 'cranfield0113', 'cranfield0146', 'cranfield1094', 'cranfield1255', 'cranfield0342', 'cranfield0389', 'cranfield0318', 'cranfield0317', 'cranfield1208', 'cranfield1033', 'cranfield0320', 'cranfield0311', 'cranfield0990', 'cranfield0962', 'cranfield1078', 'cranfield0161', 'cranfield0568', 'cranfield1041', 'cranfield0796', 'cranfield0730', 'cranfield0193', 'cranfield0502', 'cranfield0354', 'cranfield0159', 'cranfield0390', 'cranfield0908', 'cranfield1023', 'cranfield0592', 'cranfield0936', 'cranfield0535', 'cranfield0731', 'cranfield0192', 'cranfield0881', 'cranfield0353', 'cranfield0755', 'cranfield0158', 'cranfield0362', 'cranfield0300', 'cranfield1040', 'cranfield0925', 'cranfield1399', 'cranfield0894', 'cranfield1306', 'cranfield0422', 'cranfield0874', 'cranfield0031', 'cranfield1324', 'cranfield0980', 'cranfield1323', 'cranfield0436', 'cranfield0617', 'cranfield0226', 'cranfield0804', 'cranfield0369', 'cranfield0143', 'cranfield0562', 'cranfield1046', 'cranfield0703', 'cranfield0370', 'cranfield0543', 'cranfield0969', 'cranfield0725', 'cranfield1234', 'cranfield1292', 'cranfield0895', 'cranfield0531', 'cranfield1294', 'cranfield0748', 'cranfield1232', 'cranfield0327', 'cranfield0557', 'cranfield0997', 'cranfield0753', 'cranfield0999', 'cranfield0798', 'cranfield0339', 'cranfield0965', 'cranfield1274', 'cranfield0571', 'cranfield0906', 'cranfield0160', 'cranfield0166', 'cranfield1289', 'cranfield1211', 'cranfield1015', 'cranfield1047', 'cranfield0308', 'cranfield1280', 'cranfield0929', 'cranfield0330', 'cranfield1063', 'cranfield0301', 'cranfield0708', 'cranfield0195', 'cranfield0022', 'cranfield0754', 'cranfield0939', 'cranfield0996', 'cranfield1227', 'cranfield0105', 'cranfield1084', 'cranfield0550', 'cranfield0364', 'cranfield1242', 'cranfield0991', 'cranfield1048', 'cranfield1286', 'cranfield0399', 'cranfield0901', 'cranfield0397', 'cranfield0505', 'cranfield0133', 'cranfield0738', 'cranfield0504', 'cranfield0743', 'cranfield0194', 'cranfield1229', 'cranfield1012', 'cranfield1218', 'cranfield1245', 'cranfield0963', 'cranfield0532', 'cranfield0937', 'cranfield0151', 'cranfield0707', 'cranfield0167', 'cranfield0566', 'cranfield1272', 'cranfield0955', 'cranfield0762', 'cranfield0337', 'cranfield1077', 'cranfield0398', 'cranfield0156', 'cranfield1083', 'cranfield1024', 'cranfield0169', 'cranfield0700', 'cranfield0306', 'cranfield0559', 'cranfield0737', 'cranfield0352', 'cranfield0503', 'cranfield1070', 'cranfield0791', 'cranfield1216', 'cranfield1220', 'cranfield1273', 'cranfield0964', 'cranfield0952', 'cranfield0595', 'cranfield0363', 'cranfield1287', 'cranfield0134', 'cranfield0736', 'cranfield0561', 'cranfield0102', 'cranfield1275', 'cranfield0115', 'cranfield0355', 'cranfield1281', 'cranfield0930', 'cranfield1076', 'cranfield1192', 'cranfield1025', 'cranfield0567', 'cranfield0594', 'cranfield1354', 'cranfield0331', 'cranfield1079', 'cranfield0763', 'cranfield1398', 'cranfield0150', 'cranfield0765', 'cranfield0104', 'cranfield0157', 'cranfield0709', 'cranfield1085', 'cranfield1013', 'cranfield0423', 'cranfield0446', 'cranfield0533', 'cranfield0415', 'cranfield0309', 'cranfield0391', 'cranfield0244', 'cranfield1161', 'cranfield0844', 'cranfield0281', 'cranfield0764', 'cranfield0611', 'cranfield0078', 'cranfield0790', 'cranfield0843', 'cranfield0534', 'cranfield0076', 'cranfield1362', 'cranfield0752', 'cranfield1226', 'cranfield0040', 'cranfield0210', 'cranfield0706', 'cranfield1217', 'cranfield0888', 'cranfield1195', 'cranfield0365', 'cranfield0049', 'cranfield0336', 'cranfield1157', 'cranfield0556', 'cranfield0680', 'cranfield1243', 'cranfield0560', 'cranfield0618', 'cranfield0620', 'cranfield0627', 'cranfield0799', 'cranfield0886', 'cranfield1244', 'cranfield0551', 'cranfield0875', 'cranfield0954', 'cranfield0071', 'cranfield0629', 'cranfield0132', 'cranfield0243', 'cranfield0103', 'cranfield0558', 'cranfield0953', 'cranfield1365', 'cranfield1071', 'cranfield1210', 'cranfield1014', 'cranfield1288', 'cranfield0135', 'cranfield0931', 'cranfield0286', 'cranfield1219', 'cranfield0569', 'cranfield1228', 'cranfield0938', 'cranfield0168', 'cranfield0909', 'cranfield1150', 'cranfield0082', 'cranfield0272', 'cranfield0797', 'cranfield0872', 'cranfield0739', 'cranfield0412', 'cranfield1049', 'cranfield1221', 'cranfield1166', 'cranfield1168', 'cranfield0275', 'cranfield0900', 'cranfield0674', 'cranfield1022', 'cranfield0593', 'cranfield0338', 'cranfield0047', 'cranfield1336', 'cranfield1082', 'cranfield1396', 'cranfield0821', 'cranfield0998', 'cranfield0616', 'cranfield0907', 'cranfield0817', 'cranfield0396', 'cranfield0424', 'cranfield0701', 'cranfield1391', 'cranfield1151', 'cranfield1353', 'cranfield0307', 'cranfield0085', 'cranfield0889', 'cranfield0288', 'cranfield0610', 'cranfield1135', 'cranfield1355', 'cranfield1194', 'cranfield0216', 'cranfield0013', 'cranfield1390', 'cranfield0221', 'cranfield0479', 'cranfield0014', 'cranfield0227', 'cranfield0880', 'cranfield0289', 'cranfield0048', 'cranfield0826', 'cranfield0645', 'cranfield0245', 'cranfield0414', 'cranfield1169', 'cranfield0621', 'cranfield0024', 'cranfield1159', 'cranfield0482', 'cranfield0873', 'cranfield0477', 'cranfield0673', 'cranfield0287', 'cranfield1307', 'cranfield0687', 'cranfield0228', 'cranfield0039', 'cranfield1160', 'cranfield0818', 'cranfield0441', 'cranfield0644', 'cranfield0604', 'cranfield1132', 'cranfield0251', 'cranfield0827', 'cranfield0861', 'cranfield1120', 'cranfield0205', 'cranfield1167', 'cranfield0449', 'cranfield1308', 'cranfield0758', 'cranfield1037', 'cranfield0347', 'cranfield1055', 'cranfield0857', 'cranfield1001', 'cranfield0172', 'cranfield0408', 'cranfield0312', 'cranfield0145', 'cranfield1099', 'cranfield1376', 'cranfield0588', 'cranfield0967', 'cranfield0977', 'cranfield0044', 'cranfield0679', 'cranfield0427', 'cranfield0932', 'cranfield0538', 'cranfield0154', 'cranfield0489', 'cranfield0084', 'cranfield0106', 'cranfield1397', 'cranfield0394', 'cranfield0360', 'cranfield0152', 'cranfield0155', 'cranfield0276', 'cranfield0445', 'cranfield0845', 'cranfield1301', 'cranfield0448', 'cranfield0041', 'cranfield0643', 'cranfield0828', 'cranfield1105', 'cranfield0485', 'cranfield1309', 'cranfield0077', 'cranfield0811', 'cranfield0274', 'cranfield0025', 'cranfield0220', 'cranfield0484', 'cranfield0842', 'cranfield1337', 'cranfield0681', 'cranfield0217', 'cranfield1363', 'cranfield0070', 'cranfield1364', 'cranfield0619', 'cranfield0672', 'cranfield1158', 'cranfield1133', 'cranfield0083', 'cranfield0413', 'cranfield1156', 'cranfield0425', 'cranfield0470', 'cranfield0688', 'cranfield0015', 'cranfield0242', 'cranfield1330', 'cranfield0483', 'cranfield0219', 'cranfield1103', 'cranfield0476', 'cranfield0079', 'cranfield1338', 'cranfield1352', 'cranfield0887', 'cranfield0642', 'cranfield0819', 'cranfield1102', 'cranfield1331', 'cranfield1300', 'cranfield0229', 'cranfield1134', 'cranfield1193', 'cranfield0628', 'cranfield0273', 'cranfield0012', 'cranfield0626', 'cranfield0816', 'cranfield1339', 'cranfield0218', 'cranfield0829', 'cranfield1104', 'cranfield0046', 'cranfield0440', 'cranfield0689', 'cranfield0686', 'cranfield0471', 'cranfield1118', 'cranfield0099', 'cranfield0496', 'cranfield1312', 'cranfield0462', 'cranfield0409', 'cranfield0055', 'cranfield0650', 'cranfield0810', 'cranfield0447', 'cranfield0280', 'cranfield1346', 'cranfield0001', 'cranfield0431', 'cranfield0835', 'cranfield0038', 'cranfield0832', 'cranfield0498', 'cranfield0455', 'cranfield0893', 'cranfield0869', 'cranfield1117', 'cranfield1189', 'cranfield0454', 'cranfield0659', 'cranfield0090', 'cranfield1315', 'cranfield0036', 'cranfield0867', 'cranfield0064', 'cranfield0694', 'cranfield1180', 'cranfield1173', 'cranfield0632', 'cranfield0260', 'cranfield1128', 'cranfield0675', 'cranfield0695', 'cranfield0006', 'cranfield0023', 'cranfield0293', 'cranfield0658', 'cranfield1127', 'cranfield1341', 'cranfield0667', 'cranfield0267', 'cranfield0499', 'cranfield0668', 'cranfield0635', 'cranfield0478', 'cranfield0052', 'cranfield0661', 'cranfield0030', 'cranfield0465', 'cranfield0258', 'cranfield0666', 'cranfield0820', 'cranfield0860', 'cranfield0692', 'cranfield1370', 'cranfield0063', 'cranfield1348', 'cranfield1129', 'cranfield0256', 'cranfield0805', 'cranfield0453', 'cranfield0603', 'cranfield0657', 'cranfield0294', 'cranfield1174', 'cranfield0203', 'cranfield0269', 'cranfield1142', 'cranfield0693', 'cranfield0202', 'cranfield0851', 'cranfield0802', 'cranfield0491', 'cranfield0204', 'cranfield0438', 'cranfield1384', 'cranfield1111', 'cranfield1187', 'cranfield0833', 'cranfield1377', 'cranfield1110', 'cranfield0660', 'cranfield0856', 'cranfield1116', 'cranfield0037', 'cranfield0233', 'cranfield0858', 'cranfield0834', 'cranfield0009', 'cranfield0097', 'cranfield0497', 'cranfield0452', 'cranfield1322', 'cranfield0407', 'cranfield1145', 'cranfield0234', 'cranfield0400', 'cranfield1325', 'cranfield1383', 'cranfield0211', 'cranfield0008', 'cranfield1379', 'cranfield0634', 'cranfield0007', 'cranfield0669', 'cranfield0266', 'cranfield0542', 'cranfield0529', 'cranfield0740', 'cranfield1261', 'cranfield0065', 'cranfield0173', 'cranfield0323', 'cranfield1126', 'cranfield0803', 'cranfield1009', 'cranfield0346', 'cranfield1276', 'cranfield1241', 'cranfield1100', 'cranfield0429', 'cranfield0197', 'cranfield0473', 'cranfield1246', 'cranfield0951', 'cranfield0472', 'cranfield0704', 'cranfield0153', 'cranfield1277', 'cranfield0109', 'cranfield1212', 'cranfield0028', 'cranfield0958', 'cranfield0459', 'cranfield0913', 'cranfield0613', 'cranfield1373', 'cranfield0495', 'cranfield0682', 'cranfield0057', 'cranfield0215', 'cranfield0091', 'cranfield0087', 'cranfield0863', 'cranfield0457', 'cranfield0638', 'cranfield0864', 'cranfield0859', 'cranfield1380', 'cranfield0545', 'cranfield0235', 'cranfield0463', 'cranfield0054', 'cranfield0110', 'cranfield0340', 'cranfield0723', 'cranfield0779', 'cranfield0580', 'cranfield0406', 'cranfield1313', 'cranfield0313', 'cranfield1038', 'cranfield0322', 'cranfield1385', 'cranfield1181', 'cranfield1143', 'cranfield0430', 'cranfield0511', 'cranfield0783', 'cranfield0186', 'cranfield0656', 'cranfield0292', 'cranfield0464', 'cranfield0574', 'cranfield1204', 'cranfield1349', 'cranfield0746', 'cranfield1007', 'cranfield0724', 'cranfield0119', 'cranfield1266', 'cranfield0602', 'cranfield0605', 'cranfield0401', 'cranfield0314', 'cranfield1121', 'cranfield1382', 'cranfield1340', 'cranfield0232', 'cranfield0268', 'cranfield0261', 'cranfield0096', 'cranfield0741', 'cranfield0439', 'cranfield1188', 'cranfield0866', 'cranfield1235', 'cranfield0589', 'cranfield1347', 'cranfield0128', 'cranfield0295', 'cranfield1144', 'cranfield0850', 'cranfield0250', 'cranfield0257', 'cranfield0587', 'cranfield0259', 'cranfield1378', 'cranfield0117', 'cranfield1031', 'cranfield1000', 'cranfield0098', 'cranfield0121', 'cranfield1036', 'cranfield1314', 'cranfield0914', 'cranfield1119', 'cranfield1054', 'cranfield0053', 'cranfield0985', 'cranfield0770', 'cranfield0651', 'cranfield0892', 'cranfield0922', 'cranfield0868', 'cranfield1186', 'cranfield0437', 'cranfield1172', 'cranfield0784', 'cranfield0126', 'cranfield1371', 'cranfield0516', 'cranfield0633', 'cranfield1175', 'cranfield0062', 'cranfield0573', 'cranfield0971', 'cranfield1203', 'cranfield0777', 'cranfield0490', 'cranfield1259', 'cranfield0325', 'cranfield0713', 'cranfield0976', 'cranfield0526', 'cranfield1090', 'cranfield0912', 'cranfield0180', 'cranfield1006', 'cranfield1205', 'cranfield1030', 'cranfield0749', 'cranfield1098', 'cranfield1039', 'cranfield0175', 'cranfield0527', 'cranfield0377', 'cranfield0348', 'cranfield0575', 'cranfield0572', 'cranfield0785', 'cranfield0382', 'cranfield1008', 'cranfield0116', 'cranfield0715', 'cranfield1268', 'cranfield0520', 'cranfield1064', 'cranfield0940', 'cranfield0510', 'cranfield0181', 'cranfield0924', 'cranfield0923', 'cranfield0941', 'cranfield0915', 'cranfield1065', 'cranfield0144', 'cranfield1256', 'cranfield1233', 'cranfield1250', 'cranfield0581', 'cranfield1097', 'cranfield1251', 'cranfield0120', 'cranfield1400', 'cranfield0771', 'cranfield0586', 'cranfield1062', 'cranfield1260', 'cranfield1257', 'cranfield0714', 'cranfield1091', 'cranfield0778', 'cranfield0174', 'cranfield1295', 'cranfield0947', 'cranfield0371', 'cranfield0521', 'cranfield0127', 'cranfield1267', 'cranfield1202', 'cranfield0384', 'cranfield0519', 'cranfield0517', 'cranfield0518', 'cranfield0979', 'cranfield1269', 'cranfield0378', 'cranfield0978', 'cranfield1052', 'cranfield0747', 'cranfield0187', 'cranfield0361', 'cranfield0474', 'cranfield0815', 'cranfield0760', 'cranfield0794', 'cranfield0100', 'cranfield0509', 'cranfield0282', 'cranfield1081', 'cranfield0138', 'cranfield0198', 'cranfield0792', 'cranfield1283', 'cranfield0285', 'cranfield0270', 'cranfield1115', 'cranfield0665', 'cranfield0624', 'cranfield0609', 'cranfield0806', 'cranfield0419', 'cranfield0206', 'cranfield0263', 'cranfield1342', 'cranfield0404', 'cranfield1199', 'cranfield0654', 'cranfield1176', 'cranfield1112', 'cranfield0776', 'cranfield1183', 'cranfield0111', 'cranfield0946', 'cranfield0237', 'cranfield0379', 'cranfield0899', 'cranfield0341', 'cranfield1389', 'cranfield1351', 'cranfield0252', 'cranfield0376', 'cranfield0129', 'cranfield0636', 'cranfield0067', 'cranfield0189', 'cranfield0324', 'cranfield0948', 'cranfield0982', 'cranfield1053', 'cranfield0712', 'cranfield0983', 'cranfield0722', 'cranfield0188', 'cranfield0315', 'cranfield0385', 'cranfield0383', 'cranfield1096', 'cranfield0544', 'cranfield0349', 'cranfield1293', 'cranfield1215', 'cranfield1045', 'cranfield1223', 'cranfield0949', 'cranfield0984', 'cranfield0970', 'cranfield1258', 'cranfield0142', 'cranfield1018', 'cranfield0118', 'cranfield1042', 'cranfield0793', 'cranfield0596', 'cranfield0528', 'cranfield0335', 'cranfield0902', 'cranfield0553', 'cranfield0782', 'cranfield0334', 'cranfield1017', 'cranfield1080', 'cranfield1284', 'cranfield0393', 'cranfield0960', 'cranfield1073', 'cranfield0107', 'cranfield0351', 'cranfield1214', 'cranfield0303', 'cranfield0199', 'cranfield0993', 'cranfield0555', 'cranfield0903', 'cranfield0563', 'cranfield0190', 'cranfield0591', 'cranfield0751', 'cranfield1279', 'cranfield0768', 'cranfield0590', 'cranfield1026', 'cranfield0108', 'cranfield1011', 'cranfield0904', 'cranfield1213', 'cranfield0101', 'cranfield0564', 'cranfield0507', 'cranfield0597', 'cranfield1270', 'cranfield0795', 'cranfield0163', 'cranfield1020', 'cranfield0994', 'cranfield0759', 'cranfield0769', 'cranfield1224', 'cranfield0139', 'cranfield1087', 'cranfield0767', 'cranfield0367', 'cranfield0137', 'cranfield1074', 'cranfield0536', 'cranfield0750', 'cranfield1021', 'cranfield1029', 'cranfield1019', 'cranfield0356', 'cranfield0332', 'cranfield1016', 'cranfield0164', 'cranfield1225', 'cranfield0554', 'cranfield0934', 'cranfield0131', 'cranfield0302', 'cranfield1028', 'cranfield0735', 'cranfield0333', 'cranfield0761', 'cranfield0598', 'cranfield1027', 'cranfield0565', 'cranfield1248', 'cranfield0956', 'cranfield0756', 'cranfield0305', 'cranfield1089', 'cranfield0905', 'cranfield0933', 'cranfield0500', 'cranfield0358', 'cranfield0732', 'cranfield0766', 'cranfield0757', 'cranfield0130', 'cranfield0992', 'cranfield0814', 'cranfield0968', 'cranfield0359', 'cranfield0961', 'cranfield0016', 'cranfield1359', 'cranfield1304', 'cranfield0488', 'cranfield1357', 'cranfield0648', 'cranfield0225', 'cranfield0075', 'cranfield1109', 'cranfield0508', 'cranfield0058', 'cranfield0265', 'cranfield1148', 'cranfield1171', 'index.pickle', 'cranfield1316', 'cranfield0299', 'cranfield1124', 'cranfield0653', 'cranfield1320', 'cranfield0069', 'cranfield0434', 'cranfield0698', 'cranfield0403', 'cranfield0853', 'cranfield0855', 'cranfield0262', 'cranfield0606', 'cranfield1184', 'cranfield1344', 'cranfield0201', 'cranfield0898', 'cranfield1182', 'cranfield0061', 'cranfield0222', 'cranfield1149', 'cranfield0296', 'cranfield1138', 'cranfield0304', 'cranfield1043', 'cranfield0808', 'cranfield0677', 'cranfield0950', 'cranfield1177', 'cranfield0021', 'cranfield0136', 'cranfield0271', 'cranfield0733', 'cranfield0010', 'cranfield0350', 'cranfield1285', 'cranfield1072', 'cranfield1131', 'cranfield0646', 'cranfield0702', 'cranfield1368', 'cranfield0530', 'cranfield0825', 'cranfield0420', 'cranfield1191', 'cranfield1303', 'cranfield0670', 'cranfield1247', 'cranfield0847', 'cranfield1282', 'cranfield0366', 'cranfield0487', 'cranfield1240', 'cranfield0162', 'cranfield0822', 'cranfield0957', 'cranfield0599', 'cranfield0357', 'cranfield1086', 'cranfield0017', 'cranfield0395', 'cranfield1335', 'cranfield0615', 'cranfield0165', 'cranfield0368', 'cranfield0734', 'cranfield0537', 'cranfield1088', 'cranfield0480', 'cranfield0995', 'cranfield0705', 'cranfield1332', 'cranfield0641', 'cranfield0249', 'cranfield1222', 'cranfield1162', 'cranfield0214', 'cranfield0935', 'cranfield1278', 'cranfield1196', 'cranfield1075', 'cranfield1249', 'cranfield0966', 'cranfield0418', 'cranfield0552', 'cranfield0539', 'cranfield0019', 'cranfield0191', 'cranfield0683', 'cranfield0026', 'cranfield0813', 'cranfield1271', 'cranfield0088', 'cranfield0196', 'cranfield1136', 'cranfield0506', 'cranfield0612', 'cranfield0878', 'cranfield0392', 'cranfield0213', 'cranfield1044', 'cranfield1350', 'cranfield0426', 'cranfield0501', 'cranfield0959', 'cranfield0840', 'cranfield0812', 'cranfield0884', 'cranfield1010', 'cranfield0284', 'cranfield1107', 'cranfield0684', 'cranfield1152', 'cranfield0416', 'cranfield0442', 'cranfield0475', 'cranfield0277', 'cranfield0640', 'cranfield1302', 'cranfield0879', 'cranfield0486', 'cranfield1333', 'cranfield0018', 'cranfield0622', 'cranfield0885', 'cranfield1361', 'cranfield0877', 'cranfield1367', 'cranfield1394', 'cranfield0428', 'cranfield0029', 'cranfield0240', 'cranfield1139', 'cranfield0042', 'cranfield0481', 'cranfield0649', 'cranfield0020', 'cranfield0841', 'cranfield0246', 'cranfield0411', 'cranfield1101', 'cranfield0614', 'cranfield0676', 'cranfield0248', 'cranfield0848', 'cranfield1356', 'cranfield0278', 'cranfield0846', 'cranfield0685', 'cranfield1334', 'cranfield1395', 'cranfield0671', 'cranfield1305', 'cranfield0027', 'cranfield0011', 'cranfield1106', 'cranfield0074', 'cranfield1155', 'cranfield0625', 'cranfield0247', 'cranfield1198', 'cranfield1108', 'cranfield1137', 'cranfield0647', 'cranfield1369', 'cranfield0678', 'cranfield0224', 'cranfield0623', 'cranfield0223', 'cranfield1366', 'cranfield0882', 'cranfield0212', 'cranfield1153', 'cranfield0871', 'cranfield0080', 'cranfield0444', 'cranfield1358', 'cranfield0241', 'cranfield1164', 'cranfield0823', 'cranfield1165', 'cranfield0072', 'cranfield0824', 'cranfield0443', 'cranfield0081', 'cranfield0417', 'cranfield0073', 'cranfield0870', 'cranfield1190', 'cranfield0089', 'cranfield0876', 'cranfield1130', 'cranfield0849', 'cranfield0043', 'cranfield1360', 'cranfield1392', 'cranfield0600', 'cranfield0045', 'cranfield0607', 'cranfield0086', 'cranfield0883', 'cranfield0410', 'cranfield1154', 'cranfield0279', 'cranfield0034', 'cranfield1393', 'cranfield0696', 'cranfield0002', 'cranfield0466', 'cranfield0639', 'cranfield1163', 'cranfield0283', 'cranfield0421', 'cranfield0050', 'cranfield0852', 'cranfield0255', 'cranfield0432', 'cranfield1329', 'cranfield0264', 'cranfield1388', 'cranfield0033', 'cranfield0801', 'cranfield0601', 'cranfield0890', 'cranfield0060', 'cranfield1318', 'cranfield1374', 'cranfield1185', 'cranfield1170', 'cranfield0051', 'cranfield0691', 'cranfield1179', 'cranfield0290', 'cranfield0631', 'cranfield1311', 'cranfield0837', 'cranfield0839', 'cranfield0094', 'cranfield1345', 'cranfield1343', 'cranfield0468', 'cranfield0854', 'cranfield0435', 'cranfield0239', 'cranfield0093', 'cranfield0208', 'cranfield0433', 'cranfield0450', 'cranfield0068', 'cranfield1123', 'cranfield0662', 'cranfield0230', 'cranfield0005', 'cranfield0056', 'cranfield0830', 'cranfield0461', 'cranfield0492', 'cranfield0897', 'cranfield1327', 'cranfield1141', 'cranfield1387', 'cranfield0297', 'cranfield0388', 'cranfield0238', 'cranfield0570', 'cranfield1050', 'cranfield1381', 'cranfield0831', 'cranfield0344', 'cranfield1146', 'cranfield0838', 'cranfield0494', 'cranfield0326', 'cranfield0663', 'cranfield0652', 'cranfield1298', 'cranfield0140', 'cranfield0291', 'cranfield0637', 'cranfield0789', 'cranfield0460', 'cranfield0456', 'cranfield0862', 'cranfield0066', 'cranfield1147', 'cranfield1197', 'cranfield0655', 'cranfield0809', 'cranfield0515', 'cranfield0943', 'cranfield0729', 'cranfield0254', 'cranfield0493', 'cranfield1372', 'cranfield0200', 'cranfield0458', 'cranfield0727', 'cranfield1140', 'cranfield0231', 'cranfield1321', 'cranfield0699', 'cranfield1254', 'cranfield1066', 'cranfield0896', 'cranfield1068', 'cranfield0319', 'cranfield1059', 'cranfield0467', 'cranfield1317', 'cranfield1375', 'cranfield1262', 'cranfield0512', 'cranfield0372', 'cranfield1386', 'cranfield1328', 'cranfield0523', 'cranfield0664', 'cranfield1095', 'cranfield0185', 'cranfield0092', 'cranfield0032', 'cranfield0630', 'cranfield0149', 'cranfield0182', 'cranfield0095', 'cranfield0917', 'cranfield1326', 'cranfield0171', 'cranfield0690', 'cranfield0236', 'cranfield0716', 'cranfield0451', 'cranfield0207', 'cranfield0386', 'cranfield0720', 'cranfield0209', 'cranfield0972', 'cranfield0035', 'cranfield0836', 'cranfield1253', 'cranfield1092', 'cranfield0718', 'cranfield0253', 'cranfield0975', 'cranfield1113', 'cranfield0059', 'cranfield0178', 'cranfield1296', 'cranfield0114', 'cranfield1178', 'cranfield0375', 'cranfield0981', 'cranfield0003', 'cranfield0298', 'cranfield1310', 'cranfield0405', 'cranfield0004', 'cranfield1291', 'cranfield0891', 'cranfield0865', 'cranfield0697', 'cranfield1061', 'cranfield1265', 'cranfield0986', 'cranfield0469', 'cranfield0402', 'cranfield1319', 'cranfield0807', 'cranfield0608', 'cranfield1125', 'cranfield0343', 'cranfield0800', 'cranfield0176', 'cranfield0147', 'cranfield1057', 'cranfield0524', 'cranfield0944', 'cranfield1114', 'cranfield0726', 'cranfield0974', 'cranfield0711', 'cranfield0926', 'cranfield0745', 'cranfield0728', 'cranfield0988', 'cranfield0513', 'cranfield0316', 'cranfield0928', 'cranfield0987', 'cranfield0183', 'cranfield0310', 'cranfield0787', 'cranfield0381', 'cranfield1122', 'cranfield1263', 'cranfield0387', 'cranfield0918', 'cranfield0122', 'cranfield0373', 'cranfield0328', 'cranfield1207']\n"
          ]
        }
      ]
    },
    {
      "cell_type": "code",
      "source": [
        "#print the total number of files.\n",
        "len(html_files)"
      ],
      "metadata": {
        "colab": {
          "base_uri": "https://localhost:8080/"
        },
        "id": "bN2iY_BnjBsy",
        "outputId": "251b260f-a6e4-4f66-a108-996f80415283"
      },
      "execution_count": null,
      "outputs": [
        {
          "output_type": "execute_result",
          "data": {
            "text/plain": [
              "1401"
            ]
          },
          "metadata": {},
          "execution_count": 5
        }
      ]
    },
    {
      "cell_type": "code",
      "source": [
        "#Priting first 5 files before performing any operation\n",
        "first5 = ['cranfield0001', 'cranfield0002', 'cranfield0003', 'cranfield0004', 'cranfield0005']\n",
        "\n",
        "for filename in first5:\n",
        "    with open(filename, 'r') as file:\n",
        "        contents = file.read()\n",
        "        print(contents)"
      ],
      "metadata": {
        "colab": {
          "base_uri": "https://localhost:8080/"
        },
        "id": "AI6OZlPrjD14",
        "outputId": "80f3c873-b628-42c6-9a39-e66ee9c33744"
      },
      "execution_count": null,
      "outputs": [
        {
          "output_type": "stream",
          "name": "stdout",
          "text": [
            "<DOC>\n",
            "<DOCNO>\n",
            "1\n",
            "</DOCNO>\n",
            "<TITLE>\n",
            "experimental investigation of the aerodynamics of a\n",
            "wing in a slipstream .\n",
            "</TITLE>\n",
            "<AUTHOR>\n",
            "brenckman,m.\n",
            "</AUTHOR>\n",
            "<BIBLIO>\n",
            "j. ae. scs. 25, 1958, 324.\n",
            "</BIBLIO>\n",
            "<TEXT>\n",
            "  an experimental study of a wing in a propeller slipstream was\n",
            "made in order to determine the spanwise distribution of the lift\n",
            "increase due to slipstream at different angles of attack of the wing\n",
            "and at different free stream to slipstream velocity ratios .  the\n",
            "results were intended in part as an evaluation basis for different\n",
            "theoretical treatments of this problem .\n",
            "  the comparative span loading curves, together with supporting\n",
            "evidence, showed that a substantial part of the lift increment\n",
            "produced by the slipstream was due to a /destalling/ or boundary-layer-control\n",
            "effect .  the integrated remaining lift increment,\n",
            "after subtracting this destalling lift, was found to agree\n",
            "well with a potential flow theory .\n",
            "  an empirical evaluation of the destalling effects was made for\n",
            "the specific configuration of the experiment .\n",
            "</TEXT>\n",
            "</DOC>\n",
            "\n",
            "<DOC>\n",
            "<DOCNO>\n",
            "2\n",
            "</DOCNO>\n",
            "<TITLE>\n",
            "simple shear flow past a flat plate in an incompressible fluid of small\n",
            "viscosity .\n",
            "</TITLE>\n",
            "<AUTHOR>\n",
            "ting-yili\n",
            "</AUTHOR>\n",
            "<BIBLIO>\n",
            "department of aeronautical engineering, rensselaer polytechnic\n",
            "institute\n",
            "troy, n.y.\n",
            "</BIBLIO>\n",
            "<TEXT>\n",
            "in the study of high-speed viscous flow past a two-dimensional body it\n",
            "is usually necessary to consider a curved shock wave emitting from the\n",
            "nose or leading edge of the body .  consequently, there exists an inviscid\n",
            "rotational flow region between the shock wave and the boundary layer\n",
            ".  such a situation arises, for instance, in the study of the hypersonic\n",
            "viscous flow past a flat plate .  the situation is somewhat different\n",
            "from prandtl's classical boundary-layer problem . in prandtl's\n",
            "original problem the inviscid free stream outside the boundary layer is\n",
            "irrotational while in a hypersonic boundary-layer problem the inviscid\n",
            "free stream must be considered as rotational .  the possible effects of\n",
            "vorticity have been recently discussed by ferri and libby .  in the present\n",
            "paper, the simple shear flow past a flat plate in a fluid of small\n",
            "viscosity is investigated .  it can be shown that this problem can again\n",
            "be treated by the boundary-layer approximation, the only novel feature\n",
            "being that the free stream has a constant vorticity .  the discussion\n",
            "here is restricted to two-dimensional incompressible steady flow .\n",
            "</TEXT>\n",
            "</DOC>\n",
            "\n",
            "<DOC>\n",
            "<DOCNO>\n",
            "3\n",
            "</DOCNO>\n",
            "<TITLE>\n",
            "the boundary layer in simple shear flow past a flat plate .\n",
            "</TITLE>\n",
            "<AUTHOR>\n",
            "m. b. glauert\n",
            "</AUTHOR>\n",
            "<BIBLIO>\n",
            "department of mathematics, university of manchester, manchester,\n",
            "england\n",
            "</BIBLIO>\n",
            "<TEXT>\n",
            "the boundary-layer equations are presented for steady\n",
            "incompressible flow with no pressure gradient .\n",
            "</TEXT>\n",
            "</DOC>\n",
            "\n",
            "<DOC>\n",
            "<DOCNO>\n",
            "4\n",
            "</DOCNO>\n",
            "<TITLE>\n",
            "approximate solutions of the incompressible laminar\n",
            "boundary layer equations for a plate in shear flow .\n",
            "</TITLE>\n",
            "<AUTHOR>\n",
            "yen,k.t.\n",
            "</AUTHOR>\n",
            "<BIBLIO>\n",
            "j. ae. scs. 22, 1955, 728.\n",
            "</BIBLIO>\n",
            "<TEXT>\n",
            "  the two-dimensional steady boundary-layer\n",
            "problem for a flat plate in a\n",
            "shear flow of incompressible fluid is considered .\n",
            "solutions for the boundarylayer\n",
            "thickness, skin friction, and the velocity\n",
            "distribution in the boundary\n",
            "layer are obtained by the karman-pohlhausen\n",
            "technique .  comparison with\n",
            "the boundary layer of a uniform flow has also\n",
            "been made to show the effect of\n",
            "vorticity .\n",
            "</TEXT>\n",
            "</DOC>\n",
            "\n",
            "<DOC>\n",
            "<DOCNO>\n",
            "5\n",
            "</DOCNO>\n",
            "<TITLE>\n",
            "one-dimensional transient heat conduction into a double-layer\n",
            "slab subjected to a linear heat input for a small time\n",
            "internal .\n",
            "</TITLE>\n",
            "<AUTHOR>\n",
            "wasserman,b.\n",
            "</AUTHOR>\n",
            "<BIBLIO>\n",
            "j. ae. scs. 24, 1957, 924.\n",
            "</BIBLIO>\n",
            "<TEXT>\n",
            "  analytic solutions are presented for the transient heat conduction\n",
            "in composite slabs exposed at one surface to a\n",
            "triangular heat rate .  this type of heating rate may occur, for\n",
            "example, during aerodynamic heating .\n",
            "</TEXT>\n",
            "</DOC>\n",
            "\n"
          ]
        }
      ]
    },
    {
      "cell_type": "code",
      "source": [
        "#import BeautifulSoup from bs4\n",
        "from bs4 import BeautifulSoup"
      ],
      "metadata": {
        "id": "8BjWvKuEnCRv"
      },
      "execution_count": null,
      "outputs": []
    },
    {
      "cell_type": "code",
      "source": [
        "#picking the title and text content and concatenating with a blank space.\n",
        "for x in html_files:\n",
        "  with open(x, 'r') as file:\n",
        "    html_content = file.read()\n",
        "    soup = BeautifulSoup(html_content, 'html.parser')\n",
        "    \n",
        "    title = soup.find('title').text.strip()\n",
        "    text = soup.find('text').text.strip()\n",
        "    result = title+\" \"+ text\n",
        "\n",
        "    with open(x, 'w') as file:\n",
        "     file.write(result)"
      ],
      "metadata": {
        "id": "OKzkEuu6pq9l"
      },
      "execution_count": null,
      "outputs": []
    },
    {
      "cell_type": "code",
      "source": [
        "#printing 5 samples files  after concatenating.\n",
        "first5 = ['cranfield0001', 'cranfield0002', 'cranfield0003', 'cranfield0004', 'cranfield0005']\n",
        "\n",
        "for filename in first5:\n",
        "    with open(filename, 'r') as file:\n",
        "        contents = file.read()\n",
        "        print(contents)"
      ],
      "metadata": {
        "colab": {
          "base_uri": "https://localhost:8080/"
        },
        "id": "OQ7y4aEpULZc",
        "outputId": "9c0fabd6-1880-428f-d5d7-74c2f52f03ec"
      },
      "execution_count": null,
      "outputs": [
        {
          "output_type": "stream",
          "name": "stdout",
          "text": [
            "experimental investigation of the aerodynamics of a\n",
            "wing in a slipstream . an experimental study of a wing in a propeller slipstream was\n",
            "made in order to determine the spanwise distribution of the lift\n",
            "increase due to slipstream at different angles of attack of the wing\n",
            "and at different free stream to slipstream velocity ratios .  the\n",
            "results were intended in part as an evaluation basis for different\n",
            "theoretical treatments of this problem .\n",
            "  the comparative span loading curves, together with supporting\n",
            "evidence, showed that a substantial part of the lift increment\n",
            "produced by the slipstream was due to a /destalling/ or boundary-layer-control\n",
            "effect .  the integrated remaining lift increment,\n",
            "after subtracting this destalling lift, was found to agree\n",
            "well with a potential flow theory .\n",
            "  an empirical evaluation of the destalling effects was made for\n",
            "the specific configuration of the experiment .\n",
            "simple shear flow past a flat plate in an incompressible fluid of small\n",
            "viscosity . in the study of high-speed viscous flow past a two-dimensional body it\n",
            "is usually necessary to consider a curved shock wave emitting from the\n",
            "nose or leading edge of the body .  consequently, there exists an inviscid\n",
            "rotational flow region between the shock wave and the boundary layer\n",
            ".  such a situation arises, for instance, in the study of the hypersonic\n",
            "viscous flow past a flat plate .  the situation is somewhat different\n",
            "from prandtl's classical boundary-layer problem . in prandtl's\n",
            "original problem the inviscid free stream outside the boundary layer is\n",
            "irrotational while in a hypersonic boundary-layer problem the inviscid\n",
            "free stream must be considered as rotational .  the possible effects of\n",
            "vorticity have been recently discussed by ferri and libby .  in the present\n",
            "paper, the simple shear flow past a flat plate in a fluid of small\n",
            "viscosity is investigated .  it can be shown that this problem can again\n",
            "be treated by the boundary-layer approximation, the only novel feature\n",
            "being that the free stream has a constant vorticity .  the discussion\n",
            "here is restricted to two-dimensional incompressible steady flow .\n",
            "the boundary layer in simple shear flow past a flat plate . the boundary-layer equations are presented for steady\n",
            "incompressible flow with no pressure gradient .\n",
            "approximate solutions of the incompressible laminar\n",
            "boundary layer equations for a plate in shear flow . the two-dimensional steady boundary-layer\n",
            "problem for a flat plate in a\n",
            "shear flow of incompressible fluid is considered .\n",
            "solutions for the boundarylayer\n",
            "thickness, skin friction, and the velocity\n",
            "distribution in the boundary\n",
            "layer are obtained by the karman-pohlhausen\n",
            "technique .  comparison with\n",
            "the boundary layer of a uniform flow has also\n",
            "been made to show the effect of\n",
            "vorticity .\n",
            "one-dimensional transient heat conduction into a double-layer\n",
            "slab subjected to a linear heat input for a small time\n",
            "internal . analytic solutions are presented for the transient heat conduction\n",
            "in composite slabs exposed at one surface to a\n",
            "triangular heat rate .  this type of heating rate may occur, for\n",
            "example, during aerodynamic heating .\n"
          ]
        }
      ]
    },
    {
      "cell_type": "markdown",
      "source": [
        "**(ii) Data Preprocessing.**"
      ],
      "metadata": {
        "id": "l-iyZD8yxgKn"
      }
    },
    {
      "cell_type": "markdown",
      "source": [
        "(i)Lowercase the text"
      ],
      "metadata": {
        "id": "8-obufhoxV8Y"
      }
    },
    {
      "cell_type": "code",
      "source": [
        "#printing 5 samples files before converting to lowercase\n",
        "first5 = ['cranfield0001', 'cranfield0002', 'cranfield0003', 'cranfield0004', 'cranfield0005']\n",
        "\n",
        "for filename in first5:\n",
        "    with open(filename, 'r') as file:\n",
        "        contents = file.read()\n",
        "        print(contents)"
      ],
      "metadata": {
        "colab": {
          "base_uri": "https://localhost:8080/"
        },
        "id": "nijOe_kPxW3s",
        "outputId": "9eb6bbc2-4a91-417f-945f-4824592f7d36"
      },
      "execution_count": null,
      "outputs": [
        {
          "output_type": "stream",
          "name": "stdout",
          "text": [
            "experimental investigation of the aerodynamics of a\n",
            "wing in a slipstream . an experimental study of a wing in a propeller slipstream was\n",
            "made in order to determine the spanwise distribution of the lift\n",
            "increase due to slipstream at different angles of attack of the wing\n",
            "and at different free stream to slipstream velocity ratios .  the\n",
            "results were intended in part as an evaluation basis for different\n",
            "theoretical treatments of this problem .\n",
            "  the comparative span loading curves, together with supporting\n",
            "evidence, showed that a substantial part of the lift increment\n",
            "produced by the slipstream was due to a /destalling/ or boundary-layer-control\n",
            "effect .  the integrated remaining lift increment,\n",
            "after subtracting this destalling lift, was found to agree\n",
            "well with a potential flow theory .\n",
            "  an empirical evaluation of the destalling effects was made for\n",
            "the specific configuration of the experiment .\n",
            "simple shear flow past a flat plate in an incompressible fluid of small\n",
            "viscosity . in the study of high-speed viscous flow past a two-dimensional body it\n",
            "is usually necessary to consider a curved shock wave emitting from the\n",
            "nose or leading edge of the body .  consequently, there exists an inviscid\n",
            "rotational flow region between the shock wave and the boundary layer\n",
            ".  such a situation arises, for instance, in the study of the hypersonic\n",
            "viscous flow past a flat plate .  the situation is somewhat different\n",
            "from prandtl's classical boundary-layer problem . in prandtl's\n",
            "original problem the inviscid free stream outside the boundary layer is\n",
            "irrotational while in a hypersonic boundary-layer problem the inviscid\n",
            "free stream must be considered as rotational .  the possible effects of\n",
            "vorticity have been recently discussed by ferri and libby .  in the present\n",
            "paper, the simple shear flow past a flat plate in a fluid of small\n",
            "viscosity is investigated .  it can be shown that this problem can again\n",
            "be treated by the boundary-layer approximation, the only novel feature\n",
            "being that the free stream has a constant vorticity .  the discussion\n",
            "here is restricted to two-dimensional incompressible steady flow .\n",
            "the boundary layer in simple shear flow past a flat plate . the boundary-layer equations are presented for steady\n",
            "incompressible flow with no pressure gradient .\n",
            "approximate solutions of the incompressible laminar\n",
            "boundary layer equations for a plate in shear flow . the two-dimensional steady boundary-layer\n",
            "problem for a flat plate in a\n",
            "shear flow of incompressible fluid is considered .\n",
            "solutions for the boundarylayer\n",
            "thickness, skin friction, and the velocity\n",
            "distribution in the boundary\n",
            "layer are obtained by the karman-pohlhausen\n",
            "technique .  comparison with\n",
            "the boundary layer of a uniform flow has also\n",
            "been made to show the effect of\n",
            "vorticity .\n",
            "one-dimensional transient heat conduction into a double-layer\n",
            "slab subjected to a linear heat input for a small time\n",
            "internal . analytic solutions are presented for the transient heat conduction\n",
            "in composite slabs exposed at one surface to a\n",
            "triangular heat rate .  this type of heating rate may occur, for\n",
            "example, during aerodynamic heating .\n"
          ]
        }
      ]
    },
    {
      "cell_type": "code",
      "source": [
        "#converting to lowercase\n",
        "\n",
        "for filename in html_files:\n",
        "    with open(filename, 'r') as file:\n",
        "        contents = file.read()\n",
        "        contents = contents.lower()\n",
        "\n",
        "    with open(filename, 'w') as file:\n",
        "        file.write(contents)"
      ],
      "metadata": {
        "id": "vQOR8tghxJY6"
      },
      "execution_count": null,
      "outputs": []
    },
    {
      "cell_type": "code",
      "source": [
        "#printing 5 samples files after converting to lowercase\n",
        "first5 = ['cranfield0001', 'cranfield0002', 'cranfield0003', 'cranfield0004', 'cranfield0005']\n",
        "for filename in first5:\n",
        "    with open(filename, 'r') as file:\n",
        "        contents = file.read()\n",
        "        print(contents)"
      ],
      "metadata": {
        "colab": {
          "base_uri": "https://localhost:8080/"
        },
        "id": "UzN9s5a_yk4J",
        "outputId": "4c5af949-a612-4d7a-b783-e4996d6ac98a"
      },
      "execution_count": null,
      "outputs": [
        {
          "output_type": "stream",
          "name": "stdout",
          "text": [
            "experimental investigation of the aerodynamics of a\n",
            "wing in a slipstream . an experimental study of a wing in a propeller slipstream was\n",
            "made in order to determine the spanwise distribution of the lift\n",
            "increase due to slipstream at different angles of attack of the wing\n",
            "and at different free stream to slipstream velocity ratios .  the\n",
            "results were intended in part as an evaluation basis for different\n",
            "theoretical treatments of this problem .\n",
            "  the comparative span loading curves, together with supporting\n",
            "evidence, showed that a substantial part of the lift increment\n",
            "produced by the slipstream was due to a /destalling/ or boundary-layer-control\n",
            "effect .  the integrated remaining lift increment,\n",
            "after subtracting this destalling lift, was found to agree\n",
            "well with a potential flow theory .\n",
            "  an empirical evaluation of the destalling effects was made for\n",
            "the specific configuration of the experiment .\n",
            "simple shear flow past a flat plate in an incompressible fluid of small\n",
            "viscosity . in the study of high-speed viscous flow past a two-dimensional body it\n",
            "is usually necessary to consider a curved shock wave emitting from the\n",
            "nose or leading edge of the body .  consequently, there exists an inviscid\n",
            "rotational flow region between the shock wave and the boundary layer\n",
            ".  such a situation arises, for instance, in the study of the hypersonic\n",
            "viscous flow past a flat plate .  the situation is somewhat different\n",
            "from prandtl's classical boundary-layer problem . in prandtl's\n",
            "original problem the inviscid free stream outside the boundary layer is\n",
            "irrotational while in a hypersonic boundary-layer problem the inviscid\n",
            "free stream must be considered as rotational .  the possible effects of\n",
            "vorticity have been recently discussed by ferri and libby .  in the present\n",
            "paper, the simple shear flow past a flat plate in a fluid of small\n",
            "viscosity is investigated .  it can be shown that this problem can again\n",
            "be treated by the boundary-layer approximation, the only novel feature\n",
            "being that the free stream has a constant vorticity .  the discussion\n",
            "here is restricted to two-dimensional incompressible steady flow .\n",
            "the boundary layer in simple shear flow past a flat plate . the boundary-layer equations are presented for steady\n",
            "incompressible flow with no pressure gradient .\n",
            "approximate solutions of the incompressible laminar\n",
            "boundary layer equations for a plate in shear flow . the two-dimensional steady boundary-layer\n",
            "problem for a flat plate in a\n",
            "shear flow of incompressible fluid is considered .\n",
            "solutions for the boundarylayer\n",
            "thickness, skin friction, and the velocity\n",
            "distribution in the boundary\n",
            "layer are obtained by the karman-pohlhausen\n",
            "technique .  comparison with\n",
            "the boundary layer of a uniform flow has also\n",
            "been made to show the effect of\n",
            "vorticity .\n",
            "one-dimensional transient heat conduction into a double-layer\n",
            "slab subjected to a linear heat input for a small time\n",
            "internal . analytic solutions are presented for the transient heat conduction\n",
            "in composite slabs exposed at one surface to a\n",
            "triangular heat rate .  this type of heating rate may occur, for\n",
            "example, during aerodynamic heating .\n"
          ]
        }
      ]
    },
    {
      "cell_type": "markdown",
      "source": [
        "(ii) Tokenization"
      ],
      "metadata": {
        "id": "6u3b-WIIxj3f"
      }
    },
    {
      "cell_type": "code",
      "source": [
        "#printing the first 5 files before the tokenization\n",
        "first5 = ['cranfield0001', 'cranfield0002', 'cranfield0003', 'cranfield0004', 'cranfield0005']\n",
        "for filename in first5:\n",
        "    with open(filename, 'r') as file:\n",
        "        contents = file.read()\n",
        "        print(contents)"
      ],
      "metadata": {
        "colab": {
          "base_uri": "https://localhost:8080/"
        },
        "id": "wDhcjcwPzHWy",
        "outputId": "c0719cba-4315-4a6d-f3e6-b801fe123d3c"
      },
      "execution_count": null,
      "outputs": [
        {
          "output_type": "stream",
          "name": "stdout",
          "text": [
            "experimental investigation of the aerodynamics of a\n",
            "wing in a slipstream . an experimental study of a wing in a propeller slipstream was\n",
            "made in order to determine the spanwise distribution of the lift\n",
            "increase due to slipstream at different angles of attack of the wing\n",
            "and at different free stream to slipstream velocity ratios .  the\n",
            "results were intended in part as an evaluation basis for different\n",
            "theoretical treatments of this problem .\n",
            "  the comparative span loading curves, together with supporting\n",
            "evidence, showed that a substantial part of the lift increment\n",
            "produced by the slipstream was due to a /destalling/ or boundary-layer-control\n",
            "effect .  the integrated remaining lift increment,\n",
            "after subtracting this destalling lift, was found to agree\n",
            "well with a potential flow theory .\n",
            "  an empirical evaluation of the destalling effects was made for\n",
            "the specific configuration of the experiment .\n",
            "simple shear flow past a flat plate in an incompressible fluid of small\n",
            "viscosity . in the study of high-speed viscous flow past a two-dimensional body it\n",
            "is usually necessary to consider a curved shock wave emitting from the\n",
            "nose or leading edge of the body .  consequently, there exists an inviscid\n",
            "rotational flow region between the shock wave and the boundary layer\n",
            ".  such a situation arises, for instance, in the study of the hypersonic\n",
            "viscous flow past a flat plate .  the situation is somewhat different\n",
            "from prandtl's classical boundary-layer problem . in prandtl's\n",
            "original problem the inviscid free stream outside the boundary layer is\n",
            "irrotational while in a hypersonic boundary-layer problem the inviscid\n",
            "free stream must be considered as rotational .  the possible effects of\n",
            "vorticity have been recently discussed by ferri and libby .  in the present\n",
            "paper, the simple shear flow past a flat plate in a fluid of small\n",
            "viscosity is investigated .  it can be shown that this problem can again\n",
            "be treated by the boundary-layer approximation, the only novel feature\n",
            "being that the free stream has a constant vorticity .  the discussion\n",
            "here is restricted to two-dimensional incompressible steady flow .\n",
            "the boundary layer in simple shear flow past a flat plate . the boundary-layer equations are presented for steady\n",
            "incompressible flow with no pressure gradient .\n",
            "approximate solutions of the incompressible laminar\n",
            "boundary layer equations for a plate in shear flow . the two-dimensional steady boundary-layer\n",
            "problem for a flat plate in a\n",
            "shear flow of incompressible fluid is considered .\n",
            "solutions for the boundarylayer\n",
            "thickness, skin friction, and the velocity\n",
            "distribution in the boundary\n",
            "layer are obtained by the karman-pohlhausen\n",
            "technique .  comparison with\n",
            "the boundary layer of a uniform flow has also\n",
            "been made to show the effect of\n",
            "vorticity .\n",
            "one-dimensional transient heat conduction into a double-layer\n",
            "slab subjected to a linear heat input for a small time\n",
            "internal . analytic solutions are presented for the transient heat conduction\n",
            "in composite slabs exposed at one surface to a\n",
            "triangular heat rate .  this type of heating rate may occur, for\n",
            "example, during aerodynamic heating .\n"
          ]
        }
      ]
    },
    {
      "cell_type": "code",
      "source": [
        "#import the nltk library for tokenization and perform tokenization.\n",
        "import nltk\n",
        "nltk.download('punkt')\n",
        "for filename in html_files:\n",
        "    with open(filename, 'r') as file:\n",
        "        contents = file.read()\n",
        "        tokens = contents.split()\n",
        "        with open(filename, 'w') as file:\n",
        "          file.write(\" \".join(tokens))"
      ],
      "metadata": {
        "colab": {
          "base_uri": "https://localhost:8080/"
        },
        "id": "Ryx7F1Bvypbl",
        "outputId": "d93853ec-c932-4e80-ba58-45dbaaec8ece"
      },
      "execution_count": null,
      "outputs": [
        {
          "output_type": "stream",
          "name": "stderr",
          "text": [
            "[nltk_data] Downloading package punkt to /root/nltk_data...\n",
            "[nltk_data]   Unzipping tokenizers/punkt.zip.\n"
          ]
        }
      ]
    },
    {
      "cell_type": "code",
      "source": [
        "#printing the first 5 files after the tokenization\n",
        "first5 = ['cranfield0001', 'cranfield0002', 'cranfield0003', 'cranfield0004', 'cranfield0005']\n",
        "\n",
        "for filename in first5:\n",
        "    with open(filename, 'r') as file:\n",
        "        contents = file.read()\n",
        "        print(contents)"
      ],
      "metadata": {
        "colab": {
          "base_uri": "https://localhost:8080/"
        },
        "id": "qSChrYL02B2q",
        "outputId": "ae264abf-00c2-4901-9d2a-df399adb407e"
      },
      "execution_count": null,
      "outputs": [
        {
          "output_type": "stream",
          "name": "stdout",
          "text": [
            "experimental investigation of the aerodynamics of a wing in a slipstream . an experimental study of a wing in a propeller slipstream was made in order to determine the spanwise distribution of the lift increase due to slipstream at different angles of attack of the wing and at different free stream to slipstream velocity ratios . the results were intended in part as an evaluation basis for different theoretical treatments of this problem . the comparative span loading curves, together with supporting evidence, showed that a substantial part of the lift increment produced by the slipstream was due to a /destalling/ or boundary-layer-control effect . the integrated remaining lift increment, after subtracting this destalling lift, was found to agree well with a potential flow theory . an empirical evaluation of the destalling effects was made for the specific configuration of the experiment .\n",
            "simple shear flow past a flat plate in an incompressible fluid of small viscosity . in the study of high-speed viscous flow past a two-dimensional body it is usually necessary to consider a curved shock wave emitting from the nose or leading edge of the body . consequently, there exists an inviscid rotational flow region between the shock wave and the boundary layer . such a situation arises, for instance, in the study of the hypersonic viscous flow past a flat plate . the situation is somewhat different from prandtl's classical boundary-layer problem . in prandtl's original problem the inviscid free stream outside the boundary layer is irrotational while in a hypersonic boundary-layer problem the inviscid free stream must be considered as rotational . the possible effects of vorticity have been recently discussed by ferri and libby . in the present paper, the simple shear flow past a flat plate in a fluid of small viscosity is investigated . it can be shown that this problem can again be treated by the boundary-layer approximation, the only novel feature being that the free stream has a constant vorticity . the discussion here is restricted to two-dimensional incompressible steady flow .\n",
            "the boundary layer in simple shear flow past a flat plate . the boundary-layer equations are presented for steady incompressible flow with no pressure gradient .\n",
            "approximate solutions of the incompressible laminar boundary layer equations for a plate in shear flow . the two-dimensional steady boundary-layer problem for a flat plate in a shear flow of incompressible fluid is considered . solutions for the boundarylayer thickness, skin friction, and the velocity distribution in the boundary layer are obtained by the karman-pohlhausen technique . comparison with the boundary layer of a uniform flow has also been made to show the effect of vorticity .\n",
            "one-dimensional transient heat conduction into a double-layer slab subjected to a linear heat input for a small time internal . analytic solutions are presented for the transient heat conduction in composite slabs exposed at one surface to a triangular heat rate . this type of heating rate may occur, for example, during aerodynamic heating .\n"
          ]
        }
      ]
    },
    {
      "cell_type": "markdown",
      "source": [
        "(iii)Remove stopwords."
      ],
      "metadata": {
        "id": "Q6sT1OIWx189"
      }
    },
    {
      "cell_type": "code",
      "source": [
        "#printing 5 files before stopwords.\n",
        "first5 = ['cranfield0001', 'cranfield0002', 'cranfield0003', 'cranfield0004', 'cranfield0005']\n",
        "\n",
        "for filename in first5:\n",
        "    with open(filename, 'r') as file:\n",
        "        contents = file.read()\n",
        "        print(contents)"
      ],
      "metadata": {
        "colab": {
          "base_uri": "https://localhost:8080/"
        },
        "id": "8j4EDorZot3c",
        "outputId": "f99fd427-9518-431f-d1d1-e6249f590b21"
      },
      "execution_count": null,
      "outputs": [
        {
          "output_type": "stream",
          "name": "stdout",
          "text": [
            "experimental investigation of the aerodynamics of a wing in a slipstream . an experimental study of a wing in a propeller slipstream was made in order to determine the spanwise distribution of the lift increase due to slipstream at different angles of attack of the wing and at different free stream to slipstream velocity ratios . the results were intended in part as an evaluation basis for different theoretical treatments of this problem . the comparative span loading curves, together with supporting evidence, showed that a substantial part of the lift increment produced by the slipstream was due to a /destalling/ or boundary-layer-control effect . the integrated remaining lift increment, after subtracting this destalling lift, was found to agree well with a potential flow theory . an empirical evaluation of the destalling effects was made for the specific configuration of the experiment .\n",
            "simple shear flow past a flat plate in an incompressible fluid of small viscosity . in the study of high-speed viscous flow past a two-dimensional body it is usually necessary to consider a curved shock wave emitting from the nose or leading edge of the body . consequently, there exists an inviscid rotational flow region between the shock wave and the boundary layer . such a situation arises, for instance, in the study of the hypersonic viscous flow past a flat plate . the situation is somewhat different from prandtl's classical boundary-layer problem . in prandtl's original problem the inviscid free stream outside the boundary layer is irrotational while in a hypersonic boundary-layer problem the inviscid free stream must be considered as rotational . the possible effects of vorticity have been recently discussed by ferri and libby . in the present paper, the simple shear flow past a flat plate in a fluid of small viscosity is investigated . it can be shown that this problem can again be treated by the boundary-layer approximation, the only novel feature being that the free stream has a constant vorticity . the discussion here is restricted to two-dimensional incompressible steady flow .\n",
            "the boundary layer in simple shear flow past a flat plate . the boundary-layer equations are presented for steady incompressible flow with no pressure gradient .\n",
            "approximate solutions of the incompressible laminar boundary layer equations for a plate in shear flow . the two-dimensional steady boundary-layer problem for a flat plate in a shear flow of incompressible fluid is considered . solutions for the boundarylayer thickness, skin friction, and the velocity distribution in the boundary layer are obtained by the karman-pohlhausen technique . comparison with the boundary layer of a uniform flow has also been made to show the effect of vorticity .\n",
            "one-dimensional transient heat conduction into a double-layer slab subjected to a linear heat input for a small time internal . analytic solutions are presented for the transient heat conduction in composite slabs exposed at one surface to a triangular heat rate . this type of heating rate may occur, for example, during aerodynamic heating .\n"
          ]
        }
      ]
    },
    {
      "cell_type": "code",
      "source": [
        "#import the necessary library and removing the stopwords.\n",
        "import nltk\n",
        "import string\n",
        "import os\n",
        "\n",
        "nltk.download('stopwords')\n",
        "nltk.download('punkt')\n",
        "\n",
        "from nltk.corpus import stopwords \n",
        "from nltk.tokenize import word_tokenize, sent_tokenize \n",
        "\n",
        "stop_words = set(stopwords.words('english')) \n",
        "for filename in html_files:\n",
        "    with open(filename, 'r') as file:\n",
        "        contents = file.read()\n",
        "        tokens = contents.split()\n",
        "        filtered_tokens = [token for token in tokens if not token in stop_words]\n",
        "        with open(filename, 'w') as file:\n",
        "          file.write(\" \".join(filtered_tokens))"
      ],
      "metadata": {
        "colab": {
          "base_uri": "https://localhost:8080/"
        },
        "id": "mn9jD4YZo2X4",
        "outputId": "84c7b498-c103-4a79-f7bb-2d32014dfcfe"
      },
      "execution_count": null,
      "outputs": [
        {
          "output_type": "stream",
          "name": "stderr",
          "text": [
            "[nltk_data] Downloading package stopwords to /root/nltk_data...\n",
            "[nltk_data]   Unzipping corpora/stopwords.zip.\n",
            "[nltk_data] Downloading package punkt to /root/nltk_data...\n",
            "[nltk_data]   Package punkt is already up-to-date!\n"
          ]
        }
      ]
    },
    {
      "cell_type": "code",
      "source": [
        "#printing 5 files after stopwords.\n",
        "first5 = ['cranfield0001', 'cranfield0002', 'cranfield0003', 'cranfield0004', 'cranfield0005']\n",
        "\n",
        "for filename in first5:\n",
        "    with open(filename, 'r') as file:\n",
        "        contents = file.read()\n",
        "        print(contents)"
      ],
      "metadata": {
        "colab": {
          "base_uri": "https://localhost:8080/"
        },
        "id": "HicM63FUtCd9",
        "outputId": "1e21c0d2-8396-47d7-e86b-904aa5ea94e6"
      },
      "execution_count": null,
      "outputs": [
        {
          "output_type": "stream",
          "name": "stdout",
          "text": [
            "experimental investigation aerodynamics wing slipstream . experimental study wing propeller slipstream made order determine spanwise distribution lift increase due slipstream different angles attack wing different free stream slipstream velocity ratios . results intended part evaluation basis different theoretical treatments problem . comparative span loading curves, together supporting evidence, showed substantial part lift increment produced slipstream due /destalling/ boundary-layer-control effect . integrated remaining lift increment, subtracting destalling lift, found agree well potential flow theory . empirical evaluation destalling effects made specific configuration experiment .\n",
            "simple shear flow past flat plate incompressible fluid small viscosity . study high-speed viscous flow past two-dimensional body usually necessary consider curved shock wave emitting nose leading edge body . consequently, exists inviscid rotational flow region shock wave boundary layer . situation arises, instance, study hypersonic viscous flow past flat plate . situation somewhat different prandtl's classical boundary-layer problem . prandtl's original problem inviscid free stream outside boundary layer irrotational hypersonic boundary-layer problem inviscid free stream must considered rotational . possible effects vorticity recently discussed ferri libby . present paper, simple shear flow past flat plate fluid small viscosity investigated . shown problem treated boundary-layer approximation, novel feature free stream constant vorticity . discussion restricted two-dimensional incompressible steady flow .\n",
            "boundary layer simple shear flow past flat plate . boundary-layer equations presented steady incompressible flow pressure gradient .\n",
            "approximate solutions incompressible laminar boundary layer equations plate shear flow . two-dimensional steady boundary-layer problem flat plate shear flow incompressible fluid considered . solutions boundarylayer thickness, skin friction, velocity distribution boundary layer obtained karman-pohlhausen technique . comparison boundary layer uniform flow also made show effect vorticity .\n",
            "one-dimensional transient heat conduction double-layer slab subjected linear heat input small time internal . analytic solutions presented transient heat conduction composite slabs exposed one surface triangular heat rate . type heating rate may occur, example, aerodynamic heating .\n"
          ]
        }
      ]
    },
    {
      "cell_type": "markdown",
      "source": [
        "(iv)Remove punctuations."
      ],
      "metadata": {
        "id": "tdD9Hr1jyGGM"
      }
    },
    {
      "cell_type": "code",
      "source": [
        "#printing 5 files before punctuation\n",
        "first5 = ['cranfield0001', 'cranfield0002', 'cranfield0003', 'cranfield0004', 'cranfield0005']\n",
        "\n",
        "for filename in first5:\n",
        "    with open(filename, 'r') as file:\n",
        "        contents = file.read()\n",
        "        print(contents)"
      ],
      "metadata": {
        "colab": {
          "base_uri": "https://localhost:8080/"
        },
        "id": "BUePfuTRtTWf",
        "outputId": "a359615d-c0e4-4126-8cf1-73b76ff69318"
      },
      "execution_count": null,
      "outputs": [
        {
          "output_type": "stream",
          "name": "stdout",
          "text": [
            "experimental investigation aerodynamics wing slipstream . experimental study wing propeller slipstream made order determine spanwise distribution lift increase due slipstream different angles attack wing different free stream slipstream velocity ratios . results intended part evaluation basis different theoretical treatments problem . comparative span loading curves, together supporting evidence, showed substantial part lift increment produced slipstream due /destalling/ boundary-layer-control effect . integrated remaining lift increment, subtracting destalling lift, found agree well potential flow theory . empirical evaluation destalling effects made specific configuration experiment .\n",
            "simple shear flow past flat plate incompressible fluid small viscosity . study high-speed viscous flow past two-dimensional body usually necessary consider curved shock wave emitting nose leading edge body . consequently, exists inviscid rotational flow region shock wave boundary layer . situation arises, instance, study hypersonic viscous flow past flat plate . situation somewhat different prandtl's classical boundary-layer problem . prandtl's original problem inviscid free stream outside boundary layer irrotational hypersonic boundary-layer problem inviscid free stream must considered rotational . possible effects vorticity recently discussed ferri libby . present paper, simple shear flow past flat plate fluid small viscosity investigated . shown problem treated boundary-layer approximation, novel feature free stream constant vorticity . discussion restricted two-dimensional incompressible steady flow .\n",
            "boundary layer simple shear flow past flat plate . boundary-layer equations presented steady incompressible flow pressure gradient .\n",
            "approximate solutions incompressible laminar boundary layer equations plate shear flow . two-dimensional steady boundary-layer problem flat plate shear flow incompressible fluid considered . solutions boundarylayer thickness, skin friction, velocity distribution boundary layer obtained karman-pohlhausen technique . comparison boundary layer uniform flow also made show effect vorticity .\n",
            "one-dimensional transient heat conduction double-layer slab subjected linear heat input small time internal . analytic solutions presented transient heat conduction composite slabs exposed one surface triangular heat rate . type heating rate may occur, example, aerodynamic heating .\n"
          ]
        }
      ]
    },
    {
      "cell_type": "code",
      "source": [
        "#import re library and remove punctuation\n",
        "import re\n",
        "\n",
        "def remove_punctuation(input_string):\n",
        "   # Define the pattern to match punctuation characters\n",
        "    pattern = re.compile('[^\\w\\s]')\n",
        "    return re.sub(pattern, '', input_string)\n",
        "for x in html_files:\n",
        "\n",
        "  with open(x, \"r\") as file:\n",
        "      content = file.read()\n",
        "\n",
        "  content = remove_punctuation(content)\n",
        "\n",
        "  with open(x, \"w\") as file:\n",
        "    file.write(content)"
      ],
      "metadata": {
        "id": "-DDH4WEOtef8"
      },
      "execution_count": null,
      "outputs": []
    },
    {
      "cell_type": "code",
      "source": [
        "#printing 5 files after punctuation\n",
        "first5 = ['cranfield0001', 'cranfield0002', 'cranfield0003', 'cranfield0004', 'cranfield0005']\n",
        "\n",
        "for filename in first5:\n",
        "    with open(filename, 'r') as file:\n",
        "        contents = file.read()\n",
        "        print(contents)"
      ],
      "metadata": {
        "colab": {
          "base_uri": "https://localhost:8080/"
        },
        "id": "_6bnP0qhtwvt",
        "outputId": "5decbd0c-c5a8-4027-9920-8486291660b4"
      },
      "execution_count": null,
      "outputs": [
        {
          "output_type": "stream",
          "name": "stdout",
          "text": [
            "experimental investigation aerodynamics wing slipstream  experimental study wing propeller slipstream made order determine spanwise distribution lift increase due slipstream different angles attack wing different free stream slipstream velocity ratios  results intended part evaluation basis different theoretical treatments problem  comparative span loading curves together supporting evidence showed substantial part lift increment produced slipstream due destalling boundarylayercontrol effect  integrated remaining lift increment subtracting destalling lift found agree well potential flow theory  empirical evaluation destalling effects made specific configuration experiment \n",
            "simple shear flow past flat plate incompressible fluid small viscosity  study highspeed viscous flow past twodimensional body usually necessary consider curved shock wave emitting nose leading edge body  consequently exists inviscid rotational flow region shock wave boundary layer  situation arises instance study hypersonic viscous flow past flat plate  situation somewhat different prandtls classical boundarylayer problem  prandtls original problem inviscid free stream outside boundary layer irrotational hypersonic boundarylayer problem inviscid free stream must considered rotational  possible effects vorticity recently discussed ferri libby  present paper simple shear flow past flat plate fluid small viscosity investigated  shown problem treated boundarylayer approximation novel feature free stream constant vorticity  discussion restricted twodimensional incompressible steady flow \n",
            "boundary layer simple shear flow past flat plate  boundarylayer equations presented steady incompressible flow pressure gradient \n",
            "approximate solutions incompressible laminar boundary layer equations plate shear flow  twodimensional steady boundarylayer problem flat plate shear flow incompressible fluid considered  solutions boundarylayer thickness skin friction velocity distribution boundary layer obtained karmanpohlhausen technique  comparison boundary layer uniform flow also made show effect vorticity \n",
            "onedimensional transient heat conduction doublelayer slab subjected linear heat input small time internal  analytic solutions presented transient heat conduction composite slabs exposed one surface triangular heat rate  type heating rate may occur example aerodynamic heating \n"
          ]
        }
      ]
    },
    {
      "cell_type": "markdown",
      "source": [
        "(v).Remove blank space tokens"
      ],
      "metadata": {
        "id": "ySdJJM3EyXAO"
      }
    },
    {
      "cell_type": "code",
      "source": [
        "#printing 5 files before removing blank space tokens\n",
        "first5 = ['cranfield0001', 'cranfield0002', 'cranfield0003', 'cranfield0004', 'cranfield0005']\n",
        "\n",
        "for filename in first5:\n",
        "    with open(filename, 'r') as file:\n",
        "        contents = file.read()\n",
        "        print(contents)"
      ],
      "metadata": {
        "colab": {
          "base_uri": "https://localhost:8080/"
        },
        "id": "MPtI1vnMt1pC",
        "outputId": "4618ece9-d40e-4d67-ddbe-c57f4a6da6be"
      },
      "execution_count": null,
      "outputs": [
        {
          "output_type": "stream",
          "name": "stdout",
          "text": [
            "experimental investigation aerodynamics wing slipstream  experimental study wing propeller slipstream made order determine spanwise distribution lift increase due slipstream different angles attack wing different free stream slipstream velocity ratios  results intended part evaluation basis different theoretical treatments problem  comparative span loading curves together supporting evidence showed substantial part lift increment produced slipstream due destalling boundarylayercontrol effect  integrated remaining lift increment subtracting destalling lift found agree well potential flow theory  empirical evaluation destalling effects made specific configuration experiment \n",
            "simple shear flow past flat plate incompressible fluid small viscosity  study highspeed viscous flow past twodimensional body usually necessary consider curved shock wave emitting nose leading edge body  consequently exists inviscid rotational flow region shock wave boundary layer  situation arises instance study hypersonic viscous flow past flat plate  situation somewhat different prandtls classical boundarylayer problem  prandtls original problem inviscid free stream outside boundary layer irrotational hypersonic boundarylayer problem inviscid free stream must considered rotational  possible effects vorticity recently discussed ferri libby  present paper simple shear flow past flat plate fluid small viscosity investigated  shown problem treated boundarylayer approximation novel feature free stream constant vorticity  discussion restricted twodimensional incompressible steady flow \n",
            "boundary layer simple shear flow past flat plate  boundarylayer equations presented steady incompressible flow pressure gradient \n",
            "approximate solutions incompressible laminar boundary layer equations plate shear flow  twodimensional steady boundarylayer problem flat plate shear flow incompressible fluid considered  solutions boundarylayer thickness skin friction velocity distribution boundary layer obtained karmanpohlhausen technique  comparison boundary layer uniform flow also made show effect vorticity \n",
            "onedimensional transient heat conduction doublelayer slab subjected linear heat input small time internal  analytic solutions presented transient heat conduction composite slabs exposed one surface triangular heat rate  type heating rate may occur example aerodynamic heating \n"
          ]
        }
      ]
    },
    {
      "cell_type": "code",
      "source": [
        "#performing the blank space token removal\n",
        "\n",
        "for filename in html_files:\n",
        "    with open(filename, 'r') as file:\n",
        "        contents = file.read()\n",
        "        tokens = contents.split()\n",
        "        filtered_tokens = [token for token in tokens if token.strip() != \"\"]\n",
        "        with open(filename, 'w') as file:\n",
        "          file.write(\" \".join(filtered_tokens))"
      ],
      "metadata": {
        "id": "25TzLZQiuFZ2"
      },
      "execution_count": null,
      "outputs": []
    },
    {
      "cell_type": "code",
      "source": [
        "#printing 5 files after removing blank space tokens\n",
        "first5 = ['cranfield0001', 'cranfield0002', 'cranfield0003', 'cranfield0004', 'cranfield0005']\n",
        "\n",
        "for filename in first5:\n",
        "    with open(filename, 'r') as file:\n",
        "        contents = file.read()\n",
        "        print(contents)"
      ],
      "metadata": {
        "colab": {
          "base_uri": "https://localhost:8080/"
        },
        "id": "XbcHlWumug1L",
        "outputId": "9d3be9fa-c7ab-43ec-cf69-005e04f1e875"
      },
      "execution_count": null,
      "outputs": [
        {
          "output_type": "stream",
          "name": "stdout",
          "text": [
            "experimental investigation aerodynamics wing slipstream experimental study wing propeller slipstream made order determine spanwise distribution lift increase due slipstream different angles attack wing different free stream slipstream velocity ratios results intended part evaluation basis different theoretical treatments problem comparative span loading curves together supporting evidence showed substantial part lift increment produced slipstream due destalling boundarylayercontrol effect integrated remaining lift increment subtracting destalling lift found agree well potential flow theory empirical evaluation destalling effects made specific configuration experiment\n",
            "simple shear flow past flat plate incompressible fluid small viscosity study highspeed viscous flow past twodimensional body usually necessary consider curved shock wave emitting nose leading edge body consequently exists inviscid rotational flow region shock wave boundary layer situation arises instance study hypersonic viscous flow past flat plate situation somewhat different prandtls classical boundarylayer problem prandtls original problem inviscid free stream outside boundary layer irrotational hypersonic boundarylayer problem inviscid free stream must considered rotational possible effects vorticity recently discussed ferri libby present paper simple shear flow past flat plate fluid small viscosity investigated shown problem treated boundarylayer approximation novel feature free stream constant vorticity discussion restricted twodimensional incompressible steady flow\n",
            "boundary layer simple shear flow past flat plate boundarylayer equations presented steady incompressible flow pressure gradient\n",
            "approximate solutions incompressible laminar boundary layer equations plate shear flow twodimensional steady boundarylayer problem flat plate shear flow incompressible fluid considered solutions boundarylayer thickness skin friction velocity distribution boundary layer obtained karmanpohlhausen technique comparison boundary layer uniform flow also made show effect vorticity\n",
            "onedimensional transient heat conduction doublelayer slab subjected linear heat input small time internal analytic solutions presented transient heat conduction composite slabs exposed one surface triangular heat rate type heating rate may occur example aerodynamic heating\n"
          ]
        }
      ]
    }
  ]
}